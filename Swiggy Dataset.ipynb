{
 "cells": [
  {
   "cell_type": "code",
   "execution_count": 3,
   "id": "ded4d1fe-827a-4bb9-9931-9378dc469035",
   "metadata": {},
   "outputs": [
    {
     "name": "stdout",
     "output_type": "stream",
     "text": [
      "CSV files have been successfully generated!\n"
     ]
    }
   ],
   "source": [
    "import pandas as pd\n",
    "import random\n",
    "from faker import Faker\n",
    "\n",
    "# Initialize Faker with Indian locale\n",
    "fake = Faker(\"en_IN\")\n",
    "\n",
    "# Define constants\n",
    "num_customers = 5000\n",
    "num_restaurants = 1000\n",
    "num_riders = 2000\n",
    "num_orders = 1500000\n",
    "num_deliveries = 1500000\n",
    "\n",
    "cities = [\"Mumbai\", \"Delhi\", \"Bangalore\", \"Hyderabad\", \"Chennai\", \"Kolkata\", \"Pune\", \"Ahmedabad\", \"Jaipur\", \"Lucknow\", \"Daltonganj\", \"Indore\", \"Ranchi\"]\n",
    "order_statuses = [\"Completed\", \"Pending\", \"Cancelled\"]\n",
    "delivery_statuses = [\"Delivered\", \"Failed\", \"In Transit\"]\n",
    "order_items = [\"Biryani\", \"Pizza\", \"Burger\", \"Pasta\", \"Dosa\", \"Sandwich\", \"Rolls\", \"Chowmein\", \"Paneer Tikka\", \"Butter Chicken\", \"Idli Sambar\", \"Vada Pav\", \"Samosa\", \"Chole Bhature\", \"Pav Bhaji\", \"Momos\", \"Tandoori Chicken\", \"Dal Makhani\", \"Fish Curry\", \"Rogan Josh\", \"Palak Paneer\", \"Chicken Tikka\", \"Egg Curry\", \"Malai Kofta\", \"Aloo Paratha\", \"Gulab Jamun\", \"Rasgulla\", \"Dhokla\", \"Jalebi\", \"Chana Masala\", \"Paneer Butter Masala\", \"Kadhi Pakora\", \"Rajma Chawal\", \"Baingan Bharta\", \"Puri Sabzi\", \"Litti Chokha\", \"Misal Pav\", \"Keema Paratha\", \"Seekh Kebab\", \"Mutton Curry\", \"Hyderabadi Biryani\", \"Pesarattu\", \"Chicken 65\", \"Aloo Tikki\", \"Gajar Ka Halwa\", \"Shahi Paneer\", \"Navratan Korma\", \"Dal Tadka\", \"Bhindi Masala\"]\n",
    "\n",
    "genders = [\"Male\", \"Female\"]\n",
    "\n",
    "# Generate Customers Data\n",
    "customers = pd.DataFrame({\n",
    "    \"customer_id\": range(1, num_customers + 1),\n",
    "    \"customer_name\": [fake.name() for _ in range(num_customers)],\n",
    "    \"age\": [random.randint(18, 65) for _ in range(num_customers)],\n",
    "    \"gender\": [random.choice(genders) for _ in range(num_customers)],\n",
    "    \"registration_date\": [fake.date_between(start_date=\"-3y\", end_date=\"today\") for _ in range(num_customers)]\n",
    "})\n",
    "customers.to_csv(\"customers.csv\", index=False)\n",
    "\n",
    "# Generate Restaurants Data\n",
    "restaurants = pd.DataFrame({\n",
    "    \"restaurant_id\": range(1, num_restaurants + 1),\n",
    "    \"restaurant_name\": [fake.company() for _ in range(num_restaurants)],\n",
    "    \"city\": [random.choice(cities) for _ in range(num_restaurants)],\n",
    "    \"opening_hours\": [\"{:02d}:00AM to {:02d}:00PM\".format(random.randint(6, 10), random.randint(9, 12) + 12) for _ in range(num_restaurants)]\n",
    "})\n",
    "restaurants.to_csv(\"restaurants.csv\", index=False)\n",
    "\n",
    "# Generate Riders Data\n",
    "riders = pd.DataFrame({\n",
    "    \"rider_id\": range(1, num_riders + 1),\n",
    "    \"rider_name\": [fake.name() for _ in range(num_riders)],\n",
    "    \"sign_up\": [fake.date_between(start_date=\"-2y\", end_date=\"today\") for _ in range(num_riders)]\n",
    "})\n",
    "riders.to_csv(\"riders.csv\", index=False)\n",
    "\n",
    "# Generate Orders Data\n",
    "orders = pd.DataFrame({\n",
    "    \"order_id\": range(1, num_orders + 1),\n",
    "    \"customer_id\": [random.randint(1, num_customers) for _ in range(num_orders)],\n",
    "    \"restaurant_id\": [random.randint(1, num_restaurants) for _ in range(num_orders)],\n",
    "    \"order_item\": [random.choice(order_items) for _ in range(num_orders)],\n",
    "    \"order_date\": [fake.date_between(start_date=\"-1y\", end_date=\"today\") for _ in range(num_orders)],\n",
    "    \"order_time\": [fake.time(pattern=\"%H:%M:%S\") for _ in range(num_orders)],\n",
    "    \"order_status\": [random.choice(order_statuses) for _ in range(num_orders)],\n",
    "    \"total_amount\": [round(random.uniform(100, 2000), 2) for _ in range(num_orders)],\n",
    "    \"rating\": [random.randint(1, 5) for _ in range(num_orders)]\n",
    "})\n",
    "orders.to_csv(\"orders.csv\", index=False)\n",
    "\n",
    "# Generate Deliveries Data\n",
    "deliveries = pd.DataFrame({\n",
    "    \"delivery_id\": range(1, num_deliveries + 1),\n",
    "    \"order_id\": [random.randint(1, num_orders) for _ in range(num_deliveries)],\n",
    "    \"delivery_status\": [random.choice(delivery_statuses) for _ in range(num_deliveries)],\n",
    "    \"delivery_time\": [fake.time(pattern=\"%H:%M:%S\") for _ in range(num_deliveries)],\n",
    "    \"rider_id\": [random.randint(1, num_riders) for _ in range(num_deliveries)]\n",
    "})\n",
    "deliveries.to_csv(\"deliveries.csv\", index=False)\n",
    "\n",
    "print(\"CSV files have been successfully generated!\")\n"
   ]
  }
 ],
 "metadata": {
  "kernelspec": {
   "display_name": "Python 3 (ipykernel)",
   "language": "python",
   "name": "python3"
  },
  "language_info": {
   "codemirror_mode": {
    "name": "ipython",
    "version": 3
   },
   "file_extension": ".py",
   "mimetype": "text/x-python",
   "name": "python",
   "nbconvert_exporter": "python",
   "pygments_lexer": "ipython3",
   "version": "3.11.7"
  }
 },
 "nbformat": 4,
 "nbformat_minor": 5
}
